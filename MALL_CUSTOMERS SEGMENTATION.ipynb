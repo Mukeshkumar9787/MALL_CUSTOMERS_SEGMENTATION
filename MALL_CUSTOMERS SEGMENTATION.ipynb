{
 "cells": [
  {
   "cell_type": "code",
   "execution_count": 59,
   "id": "a35aba25",
   "metadata": {},
   "outputs": [],
   "source": [
    "import pandas as pd\n",
    "import matplotlib.pyplot as plt"
   ]
  },
  {
   "cell_type": "code",
   "execution_count": 71,
   "id": "de97fc95",
   "metadata": {},
   "outputs": [
    {
     "data": {
      "text/html": [
       "<div>\n",
       "<style scoped>\n",
       "    .dataframe tbody tr th:only-of-type {\n",
       "        vertical-align: middle;\n",
       "    }\n",
       "\n",
       "    .dataframe tbody tr th {\n",
       "        vertical-align: top;\n",
       "    }\n",
       "\n",
       "    .dataframe thead th {\n",
       "        text-align: right;\n",
       "    }\n",
       "</style>\n",
       "<table border=\"1\" class=\"dataframe\">\n",
       "  <thead>\n",
       "    <tr style=\"text-align: right;\">\n",
       "      <th></th>\n",
       "      <th>CustomerID</th>\n",
       "      <th>Gender</th>\n",
       "      <th>Age</th>\n",
       "      <th>Annual Income (k$)</th>\n",
       "      <th>Spending Score (1-100)</th>\n",
       "    </tr>\n",
       "  </thead>\n",
       "  <tbody>\n",
       "    <tr>\n",
       "      <th>0</th>\n",
       "      <td>1</td>\n",
       "      <td>Male</td>\n",
       "      <td>19</td>\n",
       "      <td>15</td>\n",
       "      <td>39</td>\n",
       "    </tr>\n",
       "    <tr>\n",
       "      <th>1</th>\n",
       "      <td>2</td>\n",
       "      <td>Male</td>\n",
       "      <td>21</td>\n",
       "      <td>15</td>\n",
       "      <td>81</td>\n",
       "    </tr>\n",
       "    <tr>\n",
       "      <th>2</th>\n",
       "      <td>3</td>\n",
       "      <td>Female</td>\n",
       "      <td>20</td>\n",
       "      <td>16</td>\n",
       "      <td>6</td>\n",
       "    </tr>\n",
       "    <tr>\n",
       "      <th>3</th>\n",
       "      <td>4</td>\n",
       "      <td>Female</td>\n",
       "      <td>23</td>\n",
       "      <td>16</td>\n",
       "      <td>77</td>\n",
       "    </tr>\n",
       "    <tr>\n",
       "      <th>4</th>\n",
       "      <td>5</td>\n",
       "      <td>Female</td>\n",
       "      <td>31</td>\n",
       "      <td>17</td>\n",
       "      <td>40</td>\n",
       "    </tr>\n",
       "  </tbody>\n",
       "</table>\n",
       "</div>"
      ],
      "text/plain": [
       "   CustomerID  Gender  Age  Annual Income (k$)  Spending Score (1-100)\n",
       "0           1    Male   19                  15                      39\n",
       "1           2    Male   21                  15                      81\n",
       "2           3  Female   20                  16                       6\n",
       "3           4  Female   23                  16                      77\n",
       "4           5  Female   31                  17                      40"
      ]
     },
     "execution_count": 71,
     "metadata": {},
     "output_type": "execute_result"
    }
   ],
   "source": [
    "df=pd.read_csv(\"Mall_Customers.csv\")\n",
    "df.head()"
   ]
  },
  {
   "cell_type": "code",
   "execution_count": 3,
   "id": "fbf057a5",
   "metadata": {},
   "outputs": [],
   "source": [
    "df1=df"
   ]
  },
  {
   "cell_type": "code",
   "execution_count": 4,
   "id": "dd8a9786",
   "metadata": {},
   "outputs": [],
   "source": [
    "df1[\"score\"] =df[\"Spending Score (1-100)\"]\n",
    "df1[\"income\"] =df[\"Annual Income (k$)\"]"
   ]
  },
  {
   "cell_type": "code",
   "execution_count": 14,
   "id": "37a7436b",
   "metadata": {},
   "outputs": [],
   "source": [
    "df2=df1.drop(['Spending Score (1-100)','Annual Income (k$)'],axis=1)"
   ]
  },
  {
   "cell_type": "code",
   "execution_count": 18,
   "id": "1253fb90",
   "metadata": {},
   "outputs": [],
   "source": [
    "df2.set_index('CustomerID',inplace=True)"
   ]
  },
  {
   "cell_type": "code",
   "execution_count": 19,
   "id": "011d04d2",
   "metadata": {},
   "outputs": [
    {
     "data": {
      "text/html": [
       "<div>\n",
       "<style scoped>\n",
       "    .dataframe tbody tr th:only-of-type {\n",
       "        vertical-align: middle;\n",
       "    }\n",
       "\n",
       "    .dataframe tbody tr th {\n",
       "        vertical-align: top;\n",
       "    }\n",
       "\n",
       "    .dataframe thead th {\n",
       "        text-align: right;\n",
       "    }\n",
       "</style>\n",
       "<table border=\"1\" class=\"dataframe\">\n",
       "  <thead>\n",
       "    <tr style=\"text-align: right;\">\n",
       "      <th></th>\n",
       "      <th>Gender</th>\n",
       "      <th>Age</th>\n",
       "      <th>score</th>\n",
       "      <th>income</th>\n",
       "    </tr>\n",
       "    <tr>\n",
       "      <th>CustomerID</th>\n",
       "      <th></th>\n",
       "      <th></th>\n",
       "      <th></th>\n",
       "      <th></th>\n",
       "    </tr>\n",
       "  </thead>\n",
       "  <tbody>\n",
       "    <tr>\n",
       "      <th>1</th>\n",
       "      <td>Male</td>\n",
       "      <td>19</td>\n",
       "      <td>39</td>\n",
       "      <td>15</td>\n",
       "    </tr>\n",
       "    <tr>\n",
       "      <th>2</th>\n",
       "      <td>Male</td>\n",
       "      <td>21</td>\n",
       "      <td>81</td>\n",
       "      <td>15</td>\n",
       "    </tr>\n",
       "    <tr>\n",
       "      <th>3</th>\n",
       "      <td>Female</td>\n",
       "      <td>20</td>\n",
       "      <td>6</td>\n",
       "      <td>16</td>\n",
       "    </tr>\n",
       "    <tr>\n",
       "      <th>4</th>\n",
       "      <td>Female</td>\n",
       "      <td>23</td>\n",
       "      <td>77</td>\n",
       "      <td>16</td>\n",
       "    </tr>\n",
       "    <tr>\n",
       "      <th>5</th>\n",
       "      <td>Female</td>\n",
       "      <td>31</td>\n",
       "      <td>40</td>\n",
       "      <td>17</td>\n",
       "    </tr>\n",
       "    <tr>\n",
       "      <th>...</th>\n",
       "      <td>...</td>\n",
       "      <td>...</td>\n",
       "      <td>...</td>\n",
       "      <td>...</td>\n",
       "    </tr>\n",
       "    <tr>\n",
       "      <th>196</th>\n",
       "      <td>Female</td>\n",
       "      <td>35</td>\n",
       "      <td>79</td>\n",
       "      <td>120</td>\n",
       "    </tr>\n",
       "    <tr>\n",
       "      <th>197</th>\n",
       "      <td>Female</td>\n",
       "      <td>45</td>\n",
       "      <td>28</td>\n",
       "      <td>126</td>\n",
       "    </tr>\n",
       "    <tr>\n",
       "      <th>198</th>\n",
       "      <td>Male</td>\n",
       "      <td>32</td>\n",
       "      <td>74</td>\n",
       "      <td>126</td>\n",
       "    </tr>\n",
       "    <tr>\n",
       "      <th>199</th>\n",
       "      <td>Male</td>\n",
       "      <td>32</td>\n",
       "      <td>18</td>\n",
       "      <td>137</td>\n",
       "    </tr>\n",
       "    <tr>\n",
       "      <th>200</th>\n",
       "      <td>Male</td>\n",
       "      <td>30</td>\n",
       "      <td>83</td>\n",
       "      <td>137</td>\n",
       "    </tr>\n",
       "  </tbody>\n",
       "</table>\n",
       "<p>200 rows × 4 columns</p>\n",
       "</div>"
      ],
      "text/plain": [
       "            Gender  Age  score  income\n",
       "CustomerID                            \n",
       "1             Male   19     39      15\n",
       "2             Male   21     81      15\n",
       "3           Female   20      6      16\n",
       "4           Female   23     77      16\n",
       "5           Female   31     40      17\n",
       "...            ...  ...    ...     ...\n",
       "196         Female   35     79     120\n",
       "197         Female   45     28     126\n",
       "198           Male   32     74     126\n",
       "199           Male   32     18     137\n",
       "200           Male   30     83     137\n",
       "\n",
       "[200 rows x 4 columns]"
      ]
     },
     "execution_count": 19,
     "metadata": {},
     "output_type": "execute_result"
    }
   ],
   "source": [
    "df2"
   ]
  },
  {
   "cell_type": "code",
   "execution_count": 21,
   "id": "14b3e771",
   "metadata": {},
   "outputs": [],
   "source": [
    "from sklearn.preprocessing import LabelEncoder\n",
    "le = LabelEncoder()\n",
    "df2['Gender']=le.fit_transform(df2['Gender'])"
   ]
  },
  {
   "cell_type": "code",
   "execution_count": 23,
   "id": "d8ea001f",
   "metadata": {},
   "outputs": [
    {
     "data": {
      "text/html": [
       "<div>\n",
       "<style scoped>\n",
       "    .dataframe tbody tr th:only-of-type {\n",
       "        vertical-align: middle;\n",
       "    }\n",
       "\n",
       "    .dataframe tbody tr th {\n",
       "        vertical-align: top;\n",
       "    }\n",
       "\n",
       "    .dataframe thead th {\n",
       "        text-align: right;\n",
       "    }\n",
       "</style>\n",
       "<table border=\"1\" class=\"dataframe\">\n",
       "  <thead>\n",
       "    <tr style=\"text-align: right;\">\n",
       "      <th></th>\n",
       "      <th>Gender</th>\n",
       "      <th>Age</th>\n",
       "      <th>score</th>\n",
       "      <th>income</th>\n",
       "    </tr>\n",
       "    <tr>\n",
       "      <th>CustomerID</th>\n",
       "      <th></th>\n",
       "      <th></th>\n",
       "      <th></th>\n",
       "      <th></th>\n",
       "    </tr>\n",
       "  </thead>\n",
       "  <tbody>\n",
       "    <tr>\n",
       "      <th>1</th>\n",
       "      <td>1</td>\n",
       "      <td>19</td>\n",
       "      <td>39</td>\n",
       "      <td>15</td>\n",
       "    </tr>\n",
       "    <tr>\n",
       "      <th>2</th>\n",
       "      <td>1</td>\n",
       "      <td>21</td>\n",
       "      <td>81</td>\n",
       "      <td>15</td>\n",
       "    </tr>\n",
       "    <tr>\n",
       "      <th>3</th>\n",
       "      <td>0</td>\n",
       "      <td>20</td>\n",
       "      <td>6</td>\n",
       "      <td>16</td>\n",
       "    </tr>\n",
       "    <tr>\n",
       "      <th>4</th>\n",
       "      <td>0</td>\n",
       "      <td>23</td>\n",
       "      <td>77</td>\n",
       "      <td>16</td>\n",
       "    </tr>\n",
       "    <tr>\n",
       "      <th>5</th>\n",
       "      <td>0</td>\n",
       "      <td>31</td>\n",
       "      <td>40</td>\n",
       "      <td>17</td>\n",
       "    </tr>\n",
       "  </tbody>\n",
       "</table>\n",
       "</div>"
      ],
      "text/plain": [
       "            Gender  Age  score  income\n",
       "CustomerID                            \n",
       "1                1   19     39      15\n",
       "2                1   21     81      15\n",
       "3                0   20      6      16\n",
       "4                0   23     77      16\n",
       "5                0   31     40      17"
      ]
     },
     "execution_count": 23,
     "metadata": {},
     "output_type": "execute_result"
    }
   ],
   "source": [
    "df2.head()"
   ]
  },
  {
   "cell_type": "code",
   "execution_count": 44,
   "id": "fb31dae9",
   "metadata": {},
   "outputs": [],
   "source": [
    "x=df2.iloc[:,2:4]"
   ]
  },
  {
   "cell_type": "code",
   "execution_count": 81,
   "id": "14cbf649",
   "metadata": {},
   "outputs": [],
   "source": [
    "from sklearn.preprocessing import StandardScaler\n",
    "ss = StandardScaler()\n",
    "x=ss.fit_transform(x)"
   ]
  },
  {
   "cell_type": "code",
   "execution_count": 82,
   "id": "aa009352",
   "metadata": {},
   "outputs": [
    {
     "data": {
      "text/plain": [
       "array([[-0.43480148, -1.73899919],\n",
       "       [ 1.19570407, -1.73899919],\n",
       "       [-1.71591298, -1.70082976],\n",
       "       [ 1.04041783, -1.70082976],\n",
       "       [-0.39597992, -1.66266033],\n",
       "       [ 1.00159627, -1.66266033],\n",
       "       [-1.71591298, -1.62449091],\n",
       "       [ 1.70038436, -1.62449091],\n",
       "       [-1.83237767, -1.58632148],\n",
       "       [ 0.84631002, -1.58632148],\n",
       "       [-1.4053405 , -1.58632148],\n",
       "       [ 1.89449216, -1.58632148],\n",
       "       [-1.36651894, -1.54815205],\n",
       "       [ 1.04041783, -1.54815205],\n",
       "       [-1.44416206, -1.54815205],\n",
       "       [ 1.11806095, -1.54815205],\n",
       "       [-0.59008772, -1.50998262],\n",
       "       [ 0.61338066, -1.50998262],\n",
       "       [-0.82301709, -1.43364376],\n",
       "       [ 1.8556706 , -1.43364376],\n",
       "       [-0.59008772, -1.39547433],\n",
       "       [ 0.88513158, -1.39547433],\n",
       "       [-1.75473454, -1.3573049 ],\n",
       "       [ 0.88513158, -1.3573049 ],\n",
       "       [-1.4053405 , -1.24279661],\n",
       "       [ 1.23452563, -1.24279661],\n",
       "       [-0.7065524 , -1.24279661],\n",
       "       [ 0.41927286, -1.24279661],\n",
       "       [-0.74537397, -1.20462718],\n",
       "       [ 1.42863343, -1.20462718],\n",
       "       [-1.7935561 , -1.16645776],\n",
       "       [ 0.88513158, -1.16645776],\n",
       "       [-1.7935561 , -1.05194947],\n",
       "       [ 1.62274124, -1.05194947],\n",
       "       [-1.4053405 , -1.05194947],\n",
       "       [ 1.19570407, -1.05194947],\n",
       "       [-1.28887582, -1.01378004],\n",
       "       [ 0.88513158, -1.01378004],\n",
       "       [-0.93948177, -0.89927175],\n",
       "       [ 0.96277471, -0.89927175],\n",
       "       [-0.59008772, -0.86110232],\n",
       "       [ 1.62274124, -0.86110232],\n",
       "       [-0.55126616, -0.82293289],\n",
       "       [ 0.41927286, -0.82293289],\n",
       "       [-0.86183865, -0.82293289],\n",
       "       [ 0.5745591 , -0.82293289],\n",
       "       [ 0.18634349, -0.78476346],\n",
       "       [-0.12422899, -0.78476346],\n",
       "       [-0.3183368 , -0.78476346],\n",
       "       [-0.3183368 , -0.78476346],\n",
       "       [ 0.06987881, -0.70842461],\n",
       "       [ 0.38045129, -0.70842461],\n",
       "       [ 0.14752193, -0.67025518],\n",
       "       [ 0.38045129, -0.67025518],\n",
       "       [-0.20187212, -0.67025518],\n",
       "       [-0.35715836, -0.67025518],\n",
       "       [-0.00776431, -0.63208575],\n",
       "       [-0.16305055, -0.63208575],\n",
       "       [ 0.03105725, -0.55574689],\n",
       "       [-0.16305055, -0.55574689],\n",
       "       [ 0.22516505, -0.55574689],\n",
       "       [ 0.18634349, -0.55574689],\n",
       "       [ 0.06987881, -0.51757746],\n",
       "       [ 0.34162973, -0.51757746],\n",
       "       [ 0.03105725, -0.47940803],\n",
       "       [ 0.34162973, -0.47940803],\n",
       "       [-0.00776431, -0.47940803],\n",
       "       [-0.08540743, -0.47940803],\n",
       "       [ 0.34162973, -0.47940803],\n",
       "       [-0.12422899, -0.47940803],\n",
       "       [ 0.18634349, -0.4412386 ],\n",
       "       [-0.3183368 , -0.4412386 ],\n",
       "       [-0.04658587, -0.40306917],\n",
       "       [ 0.22516505, -0.40306917],\n",
       "       [-0.12422899, -0.25039146],\n",
       "       [ 0.14752193, -0.25039146],\n",
       "       [ 0.10870037, -0.25039146],\n",
       "       [-0.08540743, -0.25039146],\n",
       "       [ 0.06987881, -0.25039146],\n",
       "       [-0.3183368 , -0.25039146],\n",
       "       [ 0.03105725, -0.25039146],\n",
       "       [ 0.18634349, -0.25039146],\n",
       "       [-0.35715836, -0.25039146],\n",
       "       [-0.24069368, -0.25039146],\n",
       "       [ 0.26398661, -0.25039146],\n",
       "       [-0.16305055, -0.25039146],\n",
       "       [ 0.30280817, -0.13588317],\n",
       "       [ 0.18634349, -0.13588317],\n",
       "       [ 0.38045129, -0.09771374],\n",
       "       [-0.16305055, -0.09771374],\n",
       "       [ 0.18634349, -0.05954431],\n",
       "       [-0.35715836, -0.05954431],\n",
       "       [-0.04658587, -0.02137488],\n",
       "       [-0.39597992, -0.02137488],\n",
       "       [-0.3183368 , -0.02137488],\n",
       "       [ 0.06987881, -0.02137488],\n",
       "       [-0.12422899, -0.02137488],\n",
       "       [-0.00776431, -0.02137488],\n",
       "       [-0.3183368 ,  0.01679455],\n",
       "       [-0.04658587,  0.01679455],\n",
       "       [-0.35715836,  0.05496398],\n",
       "       [-0.08540743,  0.05496398],\n",
       "       [ 0.34162973,  0.05496398],\n",
       "       [ 0.18634349,  0.05496398],\n",
       "       [ 0.22516505,  0.05496398],\n",
       "       [-0.3183368 ,  0.05496398],\n",
       "       [-0.00776431,  0.09313341],\n",
       "       [-0.16305055,  0.09313341],\n",
       "       [-0.27951524,  0.09313341],\n",
       "       [-0.08540743,  0.09313341],\n",
       "       [ 0.06987881,  0.09313341],\n",
       "       [ 0.14752193,  0.09313341],\n",
       "       [-0.3183368 ,  0.13130284],\n",
       "       [-0.16305055,  0.13130284],\n",
       "       [-0.08540743,  0.16947227],\n",
       "       [-0.00776431,  0.16947227],\n",
       "       [-0.27951524,  0.16947227],\n",
       "       [ 0.34162973,  0.16947227],\n",
       "       [-0.27951524,  0.24581112],\n",
       "       [ 0.26398661,  0.24581112],\n",
       "       [ 0.22516505,  0.24581112],\n",
       "       [-0.39597992,  0.24581112],\n",
       "       [ 0.30280817,  0.32214998],\n",
       "       [ 1.58391968,  0.32214998],\n",
       "       [-0.82301709,  0.36031941],\n",
       "       [ 1.04041783,  0.36031941],\n",
       "       [-0.59008772,  0.39848884],\n",
       "       [ 1.73920592,  0.39848884],\n",
       "       [-1.52180518,  0.39848884],\n",
       "       [ 0.96277471,  0.39848884],\n",
       "       [-1.5994483 ,  0.39848884],\n",
       "       [ 0.96277471,  0.39848884],\n",
       "       [-0.62890928,  0.43665827],\n",
       "       [ 0.80748846,  0.43665827],\n",
       "       [-1.75473454,  0.4748277 ],\n",
       "       [ 1.46745499,  0.4748277 ],\n",
       "       [-1.67709142,  0.4748277 ],\n",
       "       [ 0.88513158,  0.4748277 ],\n",
       "       [-1.56062674,  0.51299713],\n",
       "       [ 0.84631002,  0.51299713],\n",
       "       [-1.75473454,  0.55116656],\n",
       "       [ 1.6615628 ,  0.55116656],\n",
       "       [-0.39597992,  0.58933599],\n",
       "       [ 1.42863343,  0.58933599],\n",
       "       [-1.48298362,  0.62750542],\n",
       "       [ 1.81684904,  0.62750542],\n",
       "       [-0.55126616,  0.62750542],\n",
       "       [ 0.92395314,  0.62750542],\n",
       "       [-1.09476801,  0.66567484],\n",
       "       [ 1.54509812,  0.66567484],\n",
       "       [-1.28887582,  0.66567484],\n",
       "       [ 1.46745499,  0.66567484],\n",
       "       [-1.17241113,  0.66567484],\n",
       "       [ 1.00159627,  0.66567484],\n",
       "       [-1.32769738,  0.66567484],\n",
       "       [ 1.50627656,  0.66567484],\n",
       "       [-1.91002079,  0.66567484],\n",
       "       [ 1.07923939,  0.66567484],\n",
       "       [-1.91002079,  0.66567484],\n",
       "       [ 0.88513158,  0.66567484],\n",
       "       [-0.59008772,  0.70384427],\n",
       "       [ 1.27334719,  0.70384427],\n",
       "       [-1.75473454,  0.78018313],\n",
       "       [ 1.6615628 ,  0.78018313],\n",
       "       [-0.93948177,  0.93286085],\n",
       "       [ 0.96277471,  0.93286085],\n",
       "       [-1.17241113,  0.97103028],\n",
       "       [ 1.73920592,  0.97103028],\n",
       "       [-0.90066021,  1.00919971],\n",
       "       [ 0.49691598,  1.00919971],\n",
       "       [-1.44416206,  1.00919971],\n",
       "       [ 0.96277471,  1.00919971],\n",
       "       [-1.56062674,  1.00919971],\n",
       "       [ 1.62274124,  1.00919971],\n",
       "       [-1.44416206,  1.04736914],\n",
       "       [ 1.38981187,  1.04736914],\n",
       "       [-1.36651894,  1.04736914],\n",
       "       [ 0.72984534,  1.04736914],\n",
       "       [-1.4053405 ,  1.23821628],\n",
       "       [ 1.54509812,  1.23821628],\n",
       "       [-0.7065524 ,  1.390894  ],\n",
       "       [ 1.38981187,  1.390894  ],\n",
       "       [-1.36651894,  1.42906343],\n",
       "       [ 1.46745499,  1.42906343],\n",
       "       [-0.43480148,  1.46723286],\n",
       "       [ 1.81684904,  1.46723286],\n",
       "       [-1.01712489,  1.54357172],\n",
       "       [ 0.69102378,  1.54357172],\n",
       "       [-1.28887582,  1.61991057],\n",
       "       [ 1.35099031,  1.61991057],\n",
       "       [-1.05594645,  1.61991057],\n",
       "       [ 0.72984534,  1.61991057],\n",
       "       [-1.63826986,  2.00160487],\n",
       "       [ 1.58391968,  2.00160487],\n",
       "       [-1.32769738,  2.26879087],\n",
       "       [ 1.11806095,  2.26879087],\n",
       "       [-0.86183865,  2.49780745],\n",
       "       [ 0.92395314,  2.49780745],\n",
       "       [-1.25005425,  2.91767117],\n",
       "       [ 1.27334719,  2.91767117]])"
      ]
     },
     "execution_count": 82,
     "metadata": {},
     "output_type": "execute_result"
    }
   ],
   "source": [
    "x"
   ]
  },
  {
   "cell_type": "code",
   "execution_count": 40,
   "id": "dfec1bae",
   "metadata": {},
   "outputs": [
    {
     "data": {
      "text/plain": [
       "Index(['Gender', 'Age', 'score', 'income'], dtype='object')"
      ]
     },
     "execution_count": 40,
     "metadata": {},
     "output_type": "execute_result"
    }
   ],
   "source": [
    "df2.columns"
   ]
  },
  {
   "cell_type": "code",
   "execution_count": 49,
   "id": "1d650e94",
   "metadata": {},
   "outputs": [],
   "source": [
    "final=pd.DataFrame(arr, columns=['score', 'income'])"
   ]
  },
  {
   "cell_type": "code",
   "execution_count": 51,
   "id": "7b6843b1",
   "metadata": {},
   "outputs": [
    {
     "data": {
      "text/html": [
       "<div>\n",
       "<style scoped>\n",
       "    .dataframe tbody tr th:only-of-type {\n",
       "        vertical-align: middle;\n",
       "    }\n",
       "\n",
       "    .dataframe tbody tr th {\n",
       "        vertical-align: top;\n",
       "    }\n",
       "\n",
       "    .dataframe thead th {\n",
       "        text-align: right;\n",
       "    }\n",
       "</style>\n",
       "<table border=\"1\" class=\"dataframe\">\n",
       "  <thead>\n",
       "    <tr style=\"text-align: right;\">\n",
       "      <th></th>\n",
       "      <th>score</th>\n",
       "      <th>income</th>\n",
       "    </tr>\n",
       "  </thead>\n",
       "  <tbody>\n",
       "    <tr>\n",
       "      <th>0</th>\n",
       "      <td>-0.434801</td>\n",
       "      <td>-1.738999</td>\n",
       "    </tr>\n",
       "    <tr>\n",
       "      <th>1</th>\n",
       "      <td>1.195704</td>\n",
       "      <td>-1.738999</td>\n",
       "    </tr>\n",
       "    <tr>\n",
       "      <th>2</th>\n",
       "      <td>-1.715913</td>\n",
       "      <td>-1.700830</td>\n",
       "    </tr>\n",
       "    <tr>\n",
       "      <th>3</th>\n",
       "      <td>1.040418</td>\n",
       "      <td>-1.700830</td>\n",
       "    </tr>\n",
       "    <tr>\n",
       "      <th>4</th>\n",
       "      <td>-0.395980</td>\n",
       "      <td>-1.662660</td>\n",
       "    </tr>\n",
       "  </tbody>\n",
       "</table>\n",
       "</div>"
      ],
      "text/plain": [
       "      score    income\n",
       "0 -0.434801 -1.738999\n",
       "1  1.195704 -1.738999\n",
       "2 -1.715913 -1.700830\n",
       "3  1.040418 -1.700830\n",
       "4 -0.395980 -1.662660"
      ]
     },
     "execution_count": 51,
     "metadata": {},
     "output_type": "execute_result"
    }
   ],
   "source": [
    "final.head()"
   ]
  },
  {
   "cell_type": "code",
   "execution_count": 101,
   "id": "d4b50b87",
   "metadata": {},
   "outputs": [
    {
     "name": "stderr",
     "output_type": "stream",
     "text": [
      "C:\\Users\\Admin\\anaconda3\\lib\\site-packages\\sklearn\\cluster\\_kmeans.py:881: UserWarning: KMeans is known to have a memory leak on Windows with MKL, when there are less chunks than available threads. You can avoid it by setting the environment variable OMP_NUM_THREADS=1.\n",
      "  warnings.warn(\n"
     ]
    },
    {
     "name": "stdout",
     "output_type": "stream",
     "text": [
      "[399.99999999999994, 269.2993428689869, 157.70400815035939, 108.92131661364358, 65.56840815571681, 55.057348270385965, 44.86628627232252, 37.16638092382189, 32.406659676456606, 29.193145383499317, 26.462691239784444, 23.728663977625196, 22.21129417983217, 19.5812549446689]\n"
     ]
    }
   ],
   "source": [
    "from sklearn.cluster import KMeans\n",
    "li=[]\n",
    "for i in range(1,15):\n",
    "    km = KMeans(n_clusters=i, init='k-means++')\n",
    "    km.fit(arr)\n",
    "    li.append(km.inertia_)\n",
    "print(li)"
   ]
  },
  {
   "cell_type": "code",
   "execution_count": 60,
   "id": "d0049a8f",
   "metadata": {},
   "outputs": [
    {
     "data": {
      "text/plain": [
       "[<matplotlib.lines.Line2D at 0x1f328082c10>]"
      ]
     },
     "execution_count": 60,
     "metadata": {},
     "output_type": "execute_result"
    },
    {
     "data": {
      "image/png": "[encoded data removed]",
      "text/plain": [
       "<Figure size 432x288 with 1 Axes>"
      ]
     },
     "metadata": {
      "needs_background": "light"
     },
     "output_type": "display_data"
    }
   ],
   "source": [
    "plt.plot(li)"
   ]
  },
  {
   "cell_type": "code",
   "execution_count": 61,
   "id": "740fea80",
   "metadata": {},
   "outputs": [],
   "source": [
    "import seaborn as sns"
   ]
  },
  {
   "cell_type": "code",
   "execution_count": 74,
   "id": "33f8e938",
   "metadata": {},
   "outputs": [
    {
     "data": {
      "text/plain": [
       "<seaborn.axisgrid.FacetGrid at 0x1f328beb520>"
      ]
     },
     "execution_count": 74,
     "metadata": {},
     "output_type": "execute_result"
    },
    {
     "data": {
      "image/png": "[encoded data removed]",
      "text/plain": [
       "<Figure size 360x360 with 1 Axes>"
      ]
     },
     "metadata": {
      "needs_background": "light"
     },
     "output_type": "display_data"
    }
   ],
   "source": [
    "sns.lmplot(x='income',y=,data=df2,fit_reg=False)"
   ]
  },
  {
   "cell_type": "code",
   "execution_count": 87,
   "id": "c5fd9db3",
   "metadata": {},
   "outputs": [
    {
     "data": {
      "text/plain": [
       "array([2, 4, 2, 4, 2, 4, 2, 4, 2, 4, 2, 4, 2, 4, 2, 4, 2, 4, 2, 4, 2, 4,\n",
       "       2, 4, 2, 4, 2, 4, 2, 4, 2, 4, 2, 4, 2, 4, 2, 4, 2, 4, 2, 4, 2, 3,\n",
       "       2, 4, 3, 3, 3, 3, 3, 3, 3, 3, 3, 3, 3, 3, 3, 3, 3, 3, 3, 3, 3, 3,\n",
       "       3, 3, 3, 3, 3, 3, 3, 3, 3, 3, 3, 3, 3, 3, 3, 3, 3, 3, 3, 3, 3, 3,\n",
       "       3, 3, 3, 3, 3, 3, 3, 3, 3, 3, 3, 3, 3, 3, 3, 3, 3, 3, 3, 3, 3, 3,\n",
       "       3, 3, 3, 3, 3, 3, 3, 3, 3, 3, 3, 3, 3, 1, 0, 1, 3, 1, 0, 1, 0, 1,\n",
       "       3, 1, 0, 1, 0, 1, 0, 1, 0, 1, 3, 1, 0, 1, 0, 1, 0, 1, 0, 1, 0, 1,\n",
       "       0, 1, 0, 1, 0, 1, 0, 1, 0, 1, 0, 1, 0, 1, 0, 1, 0, 1, 0, 1, 0, 1,\n",
       "       0, 1, 0, 1, 0, 1, 0, 1, 0, 1, 0, 1, 0, 1, 0, 1, 0, 1, 0, 1, 0, 1,\n",
       "       0, 1])"
      ]
     },
     "execution_count": 87,
     "metadata": {},
     "output_type": "execute_result"
    }
   ],
   "source": [
    "km=KMeans(n_clusters=5,init=\"k-means++\")\n",
    "result=km.fit_predict(arr)\n",
    "result"
   ]
  },
  {
   "cell_type": "code",
   "execution_count": 68,
   "id": "5d2f63e3",
   "metadata": {},
   "outputs": [
    {
     "data": {
      "text/html": [
       "<div>\n",
       "<style scoped>\n",
       "    .dataframe tbody tr th:only-of-type {\n",
       "        vertical-align: middle;\n",
       "    }\n",
       "\n",
       "    .dataframe tbody tr th {\n",
       "        vertical-align: top;\n",
       "    }\n",
       "\n",
       "    .dataframe thead th {\n",
       "        text-align: right;\n",
       "    }\n",
       "</style>\n",
       "<table border=\"1\" class=\"dataframe\">\n",
       "  <thead>\n",
       "    <tr style=\"text-align: right;\">\n",
       "      <th></th>\n",
       "      <th>cluster</th>\n",
       "    </tr>\n",
       "  </thead>\n",
       "  <tbody>\n",
       "    <tr>\n",
       "      <th>0</th>\n",
       "      <td>0</td>\n",
       "    </tr>\n",
       "    <tr>\n",
       "      <th>1</th>\n",
       "      <td>1</td>\n",
       "    </tr>\n",
       "  </tbody>\n",
       "</table>\n",
       "</div>"
      ],
      "text/plain": [
       "   cluster\n",
       "0        0\n",
       "1        1"
      ]
     },
     "execution_count": 68,
     "metadata": {},
     "output_type": "execute_result"
    }
   ],
   "source": [
    "df4=pd.DataFrame(result,columns=['cluster'])\n",
    "df4.head(2)"
   ]
  },
  {
   "cell_type": "code",
   "execution_count": 72,
   "id": "66e95a37",
   "metadata": {},
   "outputs": [],
   "source": [
    "df_final=pd.concat([df,df4],axis=1)"
   ]
  },
  {
   "cell_type": "code",
   "execution_count": 73,
   "id": "e34c7411",
   "metadata": {},
   "outputs": [
    {
     "data": {
      "text/html": [
       "<div>\n",
       "<style scoped>\n",
       "    .dataframe tbody tr th:only-of-type {\n",
       "        vertical-align: middle;\n",
       "    }\n",
       "\n",
       "    .dataframe tbody tr th {\n",
       "        vertical-align: top;\n",
       "    }\n",
       "\n",
       "    .dataframe thead th {\n",
       "        text-align: right;\n",
       "    }\n",
       "</style>\n",
       "<table border=\"1\" class=\"dataframe\">\n",
       "  <thead>\n",
       "    <tr style=\"text-align: right;\">\n",
       "      <th></th>\n",
       "      <th>CustomerID</th>\n",
       "      <th>Gender</th>\n",
       "      <th>Age</th>\n",
       "      <th>Annual Income (k$)</th>\n",
       "      <th>Spending Score (1-100)</th>\n",
       "      <th>cluster</th>\n",
       "    </tr>\n",
       "  </thead>\n",
       "  <tbody>\n",
       "    <tr>\n",
       "      <th>0</th>\n",
       "      <td>1</td>\n",
       "      <td>Male</td>\n",
       "      <td>19</td>\n",
       "      <td>15</td>\n",
       "      <td>39</td>\n",
       "      <td>0</td>\n",
       "    </tr>\n",
       "    <tr>\n",
       "      <th>1</th>\n",
       "      <td>2</td>\n",
       "      <td>Male</td>\n",
       "      <td>21</td>\n",
       "      <td>15</td>\n",
       "      <td>81</td>\n",
       "      <td>1</td>\n",
       "    </tr>\n",
       "    <tr>\n",
       "      <th>2</th>\n",
       "      <td>3</td>\n",
       "      <td>Female</td>\n",
       "      <td>20</td>\n",
       "      <td>16</td>\n",
       "      <td>6</td>\n",
       "      <td>0</td>\n",
       "    </tr>\n",
       "    <tr>\n",
       "      <th>3</th>\n",
       "      <td>4</td>\n",
       "      <td>Female</td>\n",
       "      <td>23</td>\n",
       "      <td>16</td>\n",
       "      <td>77</td>\n",
       "      <td>1</td>\n",
       "    </tr>\n",
       "    <tr>\n",
       "      <th>4</th>\n",
       "      <td>5</td>\n",
       "      <td>Female</td>\n",
       "      <td>31</td>\n",
       "      <td>17</td>\n",
       "      <td>40</td>\n",
       "      <td>0</td>\n",
       "    </tr>\n",
       "    <tr>\n",
       "      <th>...</th>\n",
       "      <td>...</td>\n",
       "      <td>...</td>\n",
       "      <td>...</td>\n",
       "      <td>...</td>\n",
       "      <td>...</td>\n",
       "      <td>...</td>\n",
       "    </tr>\n",
       "    <tr>\n",
       "      <th>195</th>\n",
       "      <td>196</td>\n",
       "      <td>Female</td>\n",
       "      <td>35</td>\n",
       "      <td>120</td>\n",
       "      <td>79</td>\n",
       "      <td>3</td>\n",
       "    </tr>\n",
       "    <tr>\n",
       "      <th>196</th>\n",
       "      <td>197</td>\n",
       "      <td>Female</td>\n",
       "      <td>45</td>\n",
       "      <td>126</td>\n",
       "      <td>28</td>\n",
       "      <td>4</td>\n",
       "    </tr>\n",
       "    <tr>\n",
       "      <th>197</th>\n",
       "      <td>198</td>\n",
       "      <td>Male</td>\n",
       "      <td>32</td>\n",
       "      <td>126</td>\n",
       "      <td>74</td>\n",
       "      <td>3</td>\n",
       "    </tr>\n",
       "    <tr>\n",
       "      <th>198</th>\n",
       "      <td>199</td>\n",
       "      <td>Male</td>\n",
       "      <td>32</td>\n",
       "      <td>137</td>\n",
       "      <td>18</td>\n",
       "      <td>4</td>\n",
       "    </tr>\n",
       "    <tr>\n",
       "      <th>199</th>\n",
       "      <td>200</td>\n",
       "      <td>Male</td>\n",
       "      <td>30</td>\n",
       "      <td>137</td>\n",
       "      <td>83</td>\n",
       "      <td>3</td>\n",
       "    </tr>\n",
       "  </tbody>\n",
       "</table>\n",
       "<p>200 rows × 6 columns</p>\n",
       "</div>"
      ],
      "text/plain": [
       "     CustomerID  Gender  Age  Annual Income (k$)  Spending Score (1-100)  \\\n",
       "0             1    Male   19                  15                      39   \n",
       "1             2    Male   21                  15                      81   \n",
       "2             3  Female   20                  16                       6   \n",
       "3             4  Female   23                  16                      77   \n",
       "4             5  Female   31                  17                      40   \n",
       "..          ...     ...  ...                 ...                     ...   \n",
       "195         196  Female   35                 120                      79   \n",
       "196         197  Female   45                 126                      28   \n",
       "197         198    Male   32                 126                      74   \n",
       "198         199    Male   32                 137                      18   \n",
       "199         200    Male   30                 137                      83   \n",
       "\n",
       "     cluster  \n",
       "0          0  \n",
       "1          1  \n",
       "2          0  \n",
       "3          1  \n",
       "4          0  \n",
       "..       ...  \n",
       "195        3  \n",
       "196        4  \n",
       "197        3  \n",
       "198        4  \n",
       "199        3  \n",
       "\n",
       "[200 rows x 6 columns]"
      ]
     },
     "execution_count": 73,
     "metadata": {},
     "output_type": "execute_result"
    }
   ],
   "source": [
    "df_final"
   ]
  },
  {
   "cell_type": "code",
   "execution_count": 99,
   "id": "f6d46788",
   "metadata": {},
   "outputs": [],
   "source": [
    "x1=df_final[\"Annual Income (k$)\"]\n",
    "y1=df_final[\"Spending Score (1-100)\"]\n",
    "cluster= df_final[\"cluster\"]"
   ]
  },
  {
   "cell_type": "code",
   "execution_count": 100,
   "id": "673580b0",
   "metadata": {},
   "outputs": [
    {
     "data": {
      "text/plain": [
       "<matplotlib.legend.Legend at 0x1f329f8b550>"
      ]
     },
     "execution_count": 100,
     "metadata": {},
     "output_type": "execute_result"
    },
    {
     "data": {
      "image/png": "[encoded data removed]",
      "text/plain": [
       "<Figure size 432x288 with 1 Axes>"
      ]
     },
     "metadata": {
      "needs_background": "light"
     },
     "output_type": "display_data"
    }
   ],
   "source": [
    "plt.scatter(y1[cluster==0],x1[cluster==0],label=\"cluster_0\")\n",
    "plt.scatter(y1[cluster==1],x1[cluster==1],label=\"cluster_1\")\n",
    "plt.scatter(y1[cluster==2],x1[cluster==2],label=\"cluster_2\")\n",
    "plt.scatter(y1[cluster==3],x1[cluster==3],label=\"cluster_3\")\n",
    "plt.scatter(y1[cluster==4],x1[cluster==4],label=\"cluster_4\")\n",
    "plt.legend()"
   ]
  },
  {
   "cell_type": "code",
   "execution_count": null,
   "id": "1c6f5cca",
   "metadata": {},
   "outputs": [],
   "source": []
  }
 ],
 "metadata": {
  "kernelspec": {
   "display_name": "Python 3 (ipykernel)",
   "language": "python",
   "name": "python3"
  },
  "language_info": {
   "codemirror_mode": {
    "name": "ipython",
    "version": 3
   },
   "file_extension": ".py",
   "mimetype": "text/x-python",
   "name": "python",
   "nbconvert_exporter": "python",
   "pygments_lexer": "ipython3",
   "version": "3.9.7"
  }
 },
 "nbformat": 4,
 "nbformat_minor": 5
}
